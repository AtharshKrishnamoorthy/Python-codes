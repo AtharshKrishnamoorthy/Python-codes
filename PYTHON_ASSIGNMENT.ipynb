{
  "nbformat": 4,
  "nbformat_minor": 0,
  "metadata": {
    "colab": {
      "provenance": [],
      "authorship_tag": "ABX9TyPrsHLTtuGyb4ZLa5Fnvllv",
      "include_colab_link": true
    },
    "kernelspec": {
      "name": "python3",
      "display_name": "Python 3"
    },
    "language_info": {
      "name": "python"
    }
  },
  "cells": [
    {
      "cell_type": "markdown",
      "metadata": {
        "id": "view-in-github",
        "colab_type": "text"
      },
      "source": [
        "<a href=\"https://colab.research.google.com/github/AtharshKrishnamoorthy/Python-codes/blob/main/PYTHON_ASSIGNMENT.ipynb\" target=\"_parent\"><img src=\"https://colab.research.google.com/assets/colab-badge.svg\" alt=\"Open In Colab\"/></a>"
      ]
    },
    {
      "cell_type": "code",
      "source": [
        "# Selection operation:\n",
        "\n",
        "# Program to check if a number is positive or negative\n",
        "\n",
        "num = int(input(\"Enter a number: \"))\n",
        "\n",
        "if num > 0:\n",
        "    print(\"The number is positive.\")\n",
        "elif num < 0:\n",
        "    print(\"The number is negative.\")\n",
        "else:\n",
        "    print(\"The number is zero.\")\n",
        "\n",
        "# Iterartive operation :\n",
        "\n",
        "# Program to print the square of numbers from 1 to 5\n",
        "\n",
        "for i in range(1, 6):\n",
        "    square = i ** 2\n",
        "    print(f\"The square of {i} is {square}.\")\n"
      ],
      "metadata": {
        "colab": {
          "base_uri": "https://localhost:8080/"
        },
        "id": "HA68JUXYFda9",
        "outputId": "d8608972-5020-4a3d-ac6f-299bdb2fa596"
      },
      "execution_count": null,
      "outputs": [
        {
          "output_type": "stream",
          "name": "stdout",
          "text": [
            "Enter a number: 7\n",
            "The number is positive.\n",
            "The square of 1 is 1.\n",
            "The square of 2 is 4.\n",
            "The square of 3 is 9.\n",
            "The square of 4 is 16.\n",
            "The square of 5 is 25.\n"
          ]
        }
      ]
    },
    {
      "cell_type": "code",
      "execution_count": null,
      "metadata": {
        "colab": {
          "base_uri": "https://localhost:8080/"
        },
        "id": "5pTAW5z66H7G",
        "outputId": "f0228c52-a5d8-49f0-cd36-180d3d828429"
      },
      "outputs": [
        {
          "output_type": "stream",
          "name": "stdout",
          "text": [
            "Enter an integer: 5\n",
            "The factorial of 5 is: 120\n",
            "The number of digits in the factorial is: 3\n"
          ]
        }
      ],
      "source": [
        "# Odd - factorial , even - palindrome\n",
        "def factorial(n):\n",
        "    if n == 0:\n",
        "        return 1\n",
        "    else:\n",
        "        return n * factorial(n - 1)\n",
        "\n",
        "def is_palindrome(n):\n",
        "    n = str(n)\n",
        "    return n == n[::-1]\n",
        "\n",
        "def count_digits(n):\n",
        "    return len(str(n))\n",
        "\n",
        "num = int(input(\"Enter an integer: \"))\n",
        "\n",
        "if num % 2 == 1:\n",
        "    fact = factorial(num)\n",
        "    digit_count = count_digits(fact)\n",
        "    print(f\"The factorial of {num} is: {fact}\")\n",
        "    print(f\"The number of digits in the factorial is: {digit_count}\")\n",
        "else:\n",
        "    if is_palindrome(num):\n",
        "        print(f\"The number {num} is a palindrome.\")\n",
        "    else:\n",
        "        print(f\"The number {num} is not a palindrome.\")\n"
      ]
    },
    {
      "cell_type": "code",
      "source": [
        "# Strings and its operations:\n",
        "\n",
        "# Concatenating strings:\n",
        "\n",
        "string1 = \"Hello\"\n",
        "string2 = \"World\"\n",
        "concatenated_string = string1 + \" \" + string2\n",
        "print(concatenated_string)\n",
        "\n",
        "# String slicing:\n",
        "\n",
        "my_string = \"Hello, World!\"\n",
        "print(my_string[7:12])\n",
        "\n",
        "# Converting case :\n",
        "\n",
        "my_string = \"Hello, World!\"\n",
        "print(my_string.lower())\n",
        "print(my_string.upper())\n",
        "\n",
        "# String formatting:\n",
        "\n",
        "name = \"Alice\"\n",
        "age = 25\n",
        "formatted_string = f\"My name is {name} and I am {age} years old.\"\n",
        "print(formatted_string)\n",
        "\n",
        "# Checking if a substring exists:\n",
        "\n",
        "my_string = \"Hello, World!\"\n",
        "print(\"Hello\" in my_string)\n",
        "print(\"foo\" in my_string)\n",
        "\n",
        "\n",
        "\n"
      ],
      "metadata": {
        "colab": {
          "base_uri": "https://localhost:8080/"
        },
        "id": "Da6whon-F1UI",
        "outputId": "d6011230-484c-4275-b9c8-bb25eb4cb3ac"
      },
      "execution_count": null,
      "outputs": [
        {
          "output_type": "stream",
          "name": "stdout",
          "text": [
            "Hello World\n",
            "World\n",
            "hello, world!\n",
            "HELLO, WORLD!\n",
            "My name is Alice and I am 25 years old.\n",
            "True\n",
            "False\n"
          ]
        }
      ]
    },
    {
      "cell_type": "code",
      "source": [
        "# Checking whether a string is substring to other or not:\n",
        "s1 = input(\"Enter the first string: \")\n",
        "s2 = input(\"Enter the second string: \")\n",
        "\n",
        "i = 0\n",
        "j = 0\n",
        "\n",
        "while i < len(s1) and j < len(s2):\n",
        "    if s1[i] == s2[j]:\n",
        "        j += 1\n",
        "    i += 1\n",
        "\n",
        "if j == len(s2):\n",
        "    print(\"YES\")\n",
        "else:\n",
        "    print(\"NO\")\n",
        "\n"
      ],
      "metadata": {
        "colab": {
          "base_uri": "https://localhost:8080/"
        },
        "id": "wDxRp7MN7agB",
        "outputId": "b815ab59-917e-4c97-ebfb-9e2bb60dbef2"
      },
      "execution_count": null,
      "outputs": [
        {
          "output_type": "stream",
          "name": "stdout",
          "text": [
            "Enter the first string: welcome\n",
            "Enter the second string: home\n",
            "NO\n"
          ]
        }
      ]
    },
    {
      "cell_type": "code",
      "source": [
        "# List and its operation:\n",
        "\n",
        "# Appending elements:\n",
        "\n",
        "my_list = [1, 2, 3, 4, 5]\n",
        "my_list.append(6)\n",
        "print(my_list)\n",
        "\n",
        "# Checking membership:\n",
        "\n",
        "my_list = [1, 2, 3, 4, 5]\n",
        "print(3 in my_list)\n",
        "print(6 in my_list)\n",
        "\n",
        "# List concatenation:\n",
        "\n",
        "list1 = [1, 2, 3]\n",
        "list2 = [4, 5, 6]\n",
        "concatenated_list = list1 + list2\n",
        "print(concatenated_list)\n",
        "\n",
        "# List slicing:\n",
        "\n",
        "my_list = [1, 2, 3, 4, 5]\n",
        "print(my_list[1:4])\n",
        "print(my_list[:3])\n",
        "print(my_list[2:])\n",
        "\n",
        "\n",
        "\n",
        "\n",
        "\n",
        "\n"
      ],
      "metadata": {
        "colab": {
          "base_uri": "https://localhost:8080/"
        },
        "id": "Ao2AYnAiIBFh",
        "outputId": "d0ce3f1f-4f89-4131-f851-0d28d927e6f5"
      },
      "execution_count": null,
      "outputs": [
        {
          "output_type": "stream",
          "name": "stdout",
          "text": [
            "[1, 2, 3, 4, 5, 6]\n",
            "True\n",
            "False\n",
            "[1, 2, 3, 4, 5, 6]\n",
            "[2, 3, 4]\n",
            "[1, 2, 3]\n",
            "[3, 4, 5]\n"
          ]
        }
      ]
    },
    {
      "cell_type": "code",
      "source": [
        "# Positive and negative indexing :\n",
        "\n",
        "lst = ['a', 'b', 'c', 'd', 'e']\n",
        "\n",
        "# Positive indexing\n",
        "print(\"Positive indexing:\")\n",
        "for i in range(len(lst)):\n",
        "    print(\"Index\", i, \": Element\", lst[i])\n",
        "\n",
        "# Negative indexing\n",
        "print(\"\\nNegative indexing:\")\n",
        "for i in range(-len(lst), 0):\n",
        "    print(\"Index\", i, \": Element\", lst[i])\n"
      ],
      "metadata": {
        "colab": {
          "base_uri": "https://localhost:8080/"
        },
        "id": "rkKLckuF7ajf",
        "outputId": "9d94da19-f153-451c-ee88-45a2a74dff5d"
      },
      "execution_count": null,
      "outputs": [
        {
          "output_type": "stream",
          "name": "stdout",
          "text": [
            "Positive indexing:\n",
            "Index 0 : Element a\n",
            "Index 1 : Element b\n",
            "Index 2 : Element c\n",
            "Index 3 : Element d\n",
            "Index 4 : Element e\n",
            "\n",
            "Negative indexing:\n",
            "Index -5 : Element a\n",
            "Index -4 : Element b\n",
            "Index -3 : Element c\n",
            "Index -2 : Element d\n",
            "Index -1 : Element e\n"
          ]
        }
      ]
    },
    {
      "cell_type": "code",
      "source": [
        "# Checking given list is ascending order or not:\n",
        "\n",
        "def is_ascending(lst):\n",
        "    for i in range(len(lst) - 1):\n",
        "        if lst[i] > lst[i + 1]:\n",
        "            return False\n",
        "    return True\n",
        "\n",
        "\n",
        "nums = [1, 2, 3, 4, 5]\n",
        "\n",
        "if is_ascending(nums):\n",
        "    print(\"The list is in ascending order.\")\n",
        "else:\n",
        "    print(\"The list is not in ascending order.\")\n",
        "\n"
      ],
      "metadata": {
        "colab": {
          "base_uri": "https://localhost:8080/"
        },
        "id": "w6Jpx8ZE7anq",
        "outputId": "d399f1a2-1bd3-4a6f-c1d1-0499cfc57aba"
      },
      "execution_count": null,
      "outputs": [
        {
          "output_type": "stream",
          "name": "stdout",
          "text": [
            "The list is in ascending order.\n"
          ]
        }
      ]
    },
    {
      "cell_type": "code",
      "source": [
        "# Tuples ad its operations :\n",
        "\n",
        "# Length of tuple:\n",
        "\n",
        "my_tuple = (1, 2, 3)\n",
        "print(len(my_tuple))\n",
        "\n",
        "# Concateation:\n",
        "\n",
        "tuple1 = (1, 2, 3)\n",
        "tuple2 = (4, 5, 6)\n",
        "concatenated_tuple = tuple1 + tuple2\n",
        "print(concatenated_tuple)\n",
        "\n",
        "# Slicing:\n",
        "\n",
        "my_tuple = (1, 2, 3, 4, 5)\n",
        "print(my_tuple[1:4])\n",
        "print(my_tuple[:3])\n",
        "print(my_tuple[2:])\n",
        "\n",
        "# Checking for membership :\n",
        "\n",
        "my_tuple = (1, 2, 3)\n",
        "print(2 in my_tuple)\n",
        "print(4 in my_tuple)\n",
        "\n",
        "\n"
      ],
      "metadata": {
        "colab": {
          "base_uri": "https://localhost:8080/"
        },
        "id": "DbyQIZKh7awQ",
        "outputId": "1b02a2e4-e91d-430e-909a-ddc1ae4ad87a"
      },
      "execution_count": null,
      "outputs": [
        {
          "output_type": "stream",
          "name": "stdout",
          "text": [
            "3\n",
            "(1, 2, 3, 4, 5, 6)\n",
            "(2, 3, 4)\n",
            "(1, 2, 3)\n",
            "(3, 4, 5)\n",
            "True\n",
            "False\n"
          ]
        }
      ]
    },
    {
      "cell_type": "code",
      "source": [
        "# Converting tuple to a string :\n",
        "\n",
        "def tuple_to_string(t):\n",
        "    string_representation = \"\"\n",
        "    for item in t:\n",
        "        string_representation += str(item)\n",
        "    return string_representation\n",
        "\n",
        "my_tuple = (1, 2, 3, 4, 5)\n",
        "\n",
        "string_output = tuple_to_string(my_tuple)\n",
        "print(string_output)\n"
      ],
      "metadata": {
        "colab": {
          "base_uri": "https://localhost:8080/"
        },
        "id": "Ol0vYTHb7azK",
        "outputId": "d8a697e8-d5f1-4046-a50d-179b38fc97ea"
      },
      "execution_count": null,
      "outputs": [
        {
          "output_type": "stream",
          "name": "stdout",
          "text": [
            "12345\n"
          ]
        }
      ]
    },
    {
      "cell_type": "code",
      "source": [
        "# Reversing a tuple :\n",
        "\n",
        "def reverse_tuple(t):\n",
        "    reversed_tuple = t[::-1]\n",
        "    return reversed_tuple\n",
        "\n",
        "my_tuple = (1, 2, 3, 4, 5)\n",
        "\n",
        "reversed_output = reverse_tuple(my_tuple)\n",
        "print(reversed_output)\n"
      ],
      "metadata": {
        "colab": {
          "base_uri": "https://localhost:8080/"
        },
        "id": "G2FVDnoY_i3Y",
        "outputId": "18e95e39-fcda-4b65-f789-f75fa9dc5520"
      },
      "execution_count": null,
      "outputs": [
        {
          "output_type": "stream",
          "name": "stdout",
          "text": [
            "(5, 4, 3, 2, 1)\n"
          ]
        }
      ]
    },
    {
      "cell_type": "code",
      "source": [
        "# Sets ad its operations:\n",
        "\n",
        "# checking membership:\n",
        "\n",
        "my_set = {1, 2, 3}\n",
        "print(2 in my_set)\n",
        "print(4 in my_set)\n",
        "\n",
        "# Set operations:\n",
        "\n",
        "set1 = {1, 2, 3}\n",
        "set2 = {3, 4, 5}\n",
        "\n",
        "union_set = set1.union(set2)\n",
        "intersection_set = set1.intersection(set2)\n",
        "difference_set = set1.difference(set2)\n",
        "symmetric_difference_set = set1.symmetric_difference(set2)\n",
        "\n",
        "# Length of set :\n",
        "\n",
        "my_set = {1, 2, 3}\n",
        "print(len(my_set))\n",
        "\n",
        "\n",
        "\n"
      ],
      "metadata": {
        "colab": {
          "base_uri": "https://localhost:8080/"
        },
        "id": "adDkNPzq_i6C",
        "outputId": "31b2e484-939a-41c7-80ae-7c5d253687d1"
      },
      "execution_count": null,
      "outputs": [
        {
          "output_type": "stream",
          "name": "stdout",
          "text": [
            "True\n",
            "False\n",
            "3\n"
          ]
        }
      ]
    },
    {
      "cell_type": "code",
      "source": [
        "# Checking if a set is a subset of another set\n",
        "\n",
        "def is_subset(set1, set2):\n",
        "    return set1.issubset(set2)\n",
        "\n",
        "set1 = {1, 2, 3}\n",
        "set2 = {1, 2, 3, 4, 5}\n",
        "\n",
        "if is_subset(set1, set2):\n",
        "    print(\"set1 is a subset of set2\")\n",
        "else:\n",
        "    print(\"set1 is not a subset of set2\")\n"
      ],
      "metadata": {
        "colab": {
          "base_uri": "https://localhost:8080/"
        },
        "id": "Z0Mda7Dq_i8f",
        "outputId": "9c3e665a-4eac-4a35-d1e8-275d28162b07"
      },
      "execution_count": null,
      "outputs": [
        {
          "output_type": "stream",
          "name": "stdout",
          "text": [
            "set1 is a subset of set2\n"
          ]
        }
      ]
    },
    {
      "cell_type": "code",
      "source": [
        "# Dictionaries and its operations :\n",
        "\n",
        "# Adding new key-value pairs:\n",
        "\n",
        "my_dict = {\"name\": \"John\", \"age\": 25, \"city\": \"New York\"}\n",
        "my_dict[\"occupation\"] = \"Engineer\"\n",
        "\n",
        "# Checking if a key exists:\n",
        "\n",
        "my_dict = {\"name\": \"John\", \"age\": 25, \"city\": \"New York\"}\n",
        "print(\"age\" in my_dict)\n",
        "print(\"country\" in my_dict)\n",
        "\n",
        "# Iterating over keys and values:\n",
        "\n",
        "my_dict = {\"name\": \"John\", \"age\": 25, \"city\": \"New York\"}\n",
        "for key in my_dict:\n",
        "    print(key, my_dict[key])\n",
        "\n",
        "#  Dictionary comprehension:\n",
        "\n",
        "my_dict = {x: x**2 for x in range(1, 6)}\n",
        "print(my_dict)\n",
        "\n",
        "\n"
      ],
      "metadata": {
        "colab": {
          "base_uri": "https://localhost:8080/"
        },
        "id": "DVJKB2mEA2Oy",
        "outputId": "10f2c4f1-fc80-4f72-a885-9448a1fca071"
      },
      "execution_count": null,
      "outputs": [
        {
          "output_type": "stream",
          "name": "stdout",
          "text": [
            "True\n",
            "False\n",
            "name John\n",
            "age 25\n",
            "city New York\n",
            "{1: 1, 2: 4, 3: 9, 4: 16, 5: 25}\n"
          ]
        }
      ]
    },
    {
      "cell_type": "code",
      "source": [
        "# Iterating over dictionaries using for loops:\n",
        "\n",
        "my_dict = {\"name\": \"John\", \"age\": 25, \"city\": \"New York\"}\n",
        "\n",
        "# Iterating over keys\n",
        "print(\"Keys:\")\n",
        "for key in my_dict:\n",
        "    print(key)\n",
        "\n",
        "# Iterating over values\n",
        "print(\"\\nValues:\")\n",
        "for value in my_dict.values():\n",
        "    print(value)\n",
        "\n",
        "# Iterating over key-value pairs\n",
        "print(\"\\nKey-Value Pairs:\")\n",
        "for key, value in my_dict.items():\n",
        "    print(key, \":\", value)\n"
      ],
      "metadata": {
        "colab": {
          "base_uri": "https://localhost:8080/"
        },
        "id": "Suiy1vlIEfZm",
        "outputId": "ba95fbb1-8ee6-45e9-9cde-6a7a6c4e5b29"
      },
      "execution_count": null,
      "outputs": [
        {
          "output_type": "stream",
          "name": "stdout",
          "text": [
            "Keys:\n",
            "name\n",
            "age\n",
            "city\n",
            "\n",
            "Values:\n",
            "John\n",
            "25\n",
            "New York\n",
            "\n",
            "Key-Value Pairs:\n",
            "name : John\n",
            "age : 25\n",
            "city : New York\n"
          ]
        }
      ]
    }
  ]
}